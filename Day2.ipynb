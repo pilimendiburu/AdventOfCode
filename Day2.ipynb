{
 "cells": [
  {
   "cell_type": "code",
   "execution_count": 8,
   "id": "c7ccbf34",
   "metadata": {},
   "outputs": [
    {
     "data": {
      "text/plain": [
       "'C:\\\\Users\\\\Pilar\\\\Documents\\\\AdventOfCode'"
      ]
     },
     "execution_count": 8,
     "metadata": {},
     "output_type": "execute_result"
    }
   ],
   "source": [
    "import os\n",
    "import math\n",
    "os.getcwd()\n"
   ]
  },
  {
   "cell_type": "markdown",
   "id": "40e87431",
   "metadata": {},
   "source": [
    "Determine which games would have been possible if the bag had been loaded with only 12 red cubes, 13 green cubes, and 14 blue cubes. What is the sum of the IDs of those games?"
   ]
  },
  {
   "cell_type": "code",
   "execution_count": 35,
   "id": "32fcfaa8",
   "metadata": {},
   "outputs": [],
   "source": [
    "def possible(game):\n",
    "    colors=game.split(',')\n",
    "    number_string=''\n",
    "    print(colors)\n",
    "    for color in colors:\n",
    "        num_string=[]\n",
    "        real=color.split(';')\n",
    "        if 'green'in real(1):\n",
    "            num=0\n",
    "            for char in real(1):\n",
    "                if char.isdigit():\n",
    "                    number_string+=char\n",
    "                    num=int(number_string)\n",
    "            if num>13:\n",
    "                return False\n",
    "        if 'red'in real(1):\n",
    "            num=0\n",
    "            for char in real(1):\n",
    "                if char.isdigit():\n",
    "                    number_string+=char\n",
    "                    num=int(number_string)\n",
    "            if num>12:\n",
    "                return False\n",
    "        if 'blue'in real(1):\n",
    "            num=0\n",
    "            for char in real(1):\n",
    "                if char.isdigit():\n",
    "                    number_string+=char\n",
    "                    num=int(number_string)\n",
    "            if num>13:\n",
    "                return False\n",
    "    return True\n",
    "    "
   ]
  },
  {
   "cell_type": "code",
   "execution_count": 36,
   "id": "56fdd154",
   "metadata": {},
   "outputs": [
    {
     "name": "stdout",
     "output_type": "stream",
     "text": [
      "['Game 1: 4 green', ' 2 blue; 1 red', ' 1 blue', ' 4 green; 3 green', ' 4 blue', ' 1 red; 7 green', ' 2 blue', ' 4 red; 3 red', ' 7 green; 3 red', ' 3 green\\n']\n"
     ]
    },
    {
     "ename": "TypeError",
     "evalue": "'list' object is not callable",
     "output_type": "error",
     "traceback": [
      "\u001b[1;31m---------------------------------------------------------------------------\u001b[0m",
      "\u001b[1;31mTypeError\u001b[0m                                 Traceback (most recent call last)",
      "Cell \u001b[1;32mIn[36], line 7\u001b[0m\n\u001b[0;32m      4\u001b[0m games_possible\u001b[38;5;241m=\u001b[39m[]\n\u001b[0;32m      6\u001b[0m \u001b[38;5;28;01mfor\u001b[39;00m (i,line) \u001b[38;5;129;01min\u001b[39;00m \u001b[38;5;28menumerate\u001b[39m(lines):\n\u001b[1;32m----> 7\u001b[0m     \u001b[38;5;28;01mif\u001b[39;00m possible(line):\n\u001b[0;32m      8\u001b[0m         games_possible\u001b[38;5;241m.\u001b[39mappend(i\u001b[38;5;241m+\u001b[39m\u001b[38;5;241m1\u001b[39m)\n\u001b[0;32m      9\u001b[0m games_possible\n",
      "Cell \u001b[1;32mIn[35], line 8\u001b[0m, in \u001b[0;36mpossible\u001b[1;34m(game)\u001b[0m\n\u001b[0;32m      6\u001b[0m num_string\u001b[38;5;241m=\u001b[39m[]\n\u001b[0;32m      7\u001b[0m real\u001b[38;5;241m=\u001b[39mcolor\u001b[38;5;241m.\u001b[39msplit(\u001b[38;5;124m'\u001b[39m\u001b[38;5;124m;\u001b[39m\u001b[38;5;124m'\u001b[39m)\n\u001b[1;32m----> 8\u001b[0m \u001b[38;5;28;01mif\u001b[39;00m \u001b[38;5;124m'\u001b[39m\u001b[38;5;124mgreen\u001b[39m\u001b[38;5;124m'\u001b[39m\u001b[38;5;129;01min\u001b[39;00m real(\u001b[38;5;241m1\u001b[39m):\n\u001b[0;32m      9\u001b[0m     num\u001b[38;5;241m=\u001b[39m\u001b[38;5;241m0\u001b[39m\n\u001b[0;32m     10\u001b[0m     \u001b[38;5;28;01mfor\u001b[39;00m char \u001b[38;5;129;01min\u001b[39;00m real(\u001b[38;5;241m1\u001b[39m):\n",
      "\u001b[1;31mTypeError\u001b[0m: 'list' object is not callable"
     ]
    }
   ],
   "source": [
    "file = open('Day2.txt', 'r')\n",
    "\n",
    "lines=file.readlines()\n",
    "games_possible=[]\n",
    "\n",
    "for (i,line) in enumerate(lines):\n",
    "    if possible(line):\n",
    "        games_possible.append(i+1)\n",
    "games_possible"
   ]
  },
  {
   "cell_type": "code",
   "execution_count": null,
   "id": "85c1128e",
   "metadata": {},
   "outputs": [],
   "source": []
  }
 ],
 "metadata": {
  "kernelspec": {
   "display_name": "Python 3 (ipykernel)",
   "language": "python",
   "name": "python3"
  },
  "language_info": {
   "codemirror_mode": {
    "name": "ipython",
    "version": 3
   },
   "file_extension": ".py",
   "mimetype": "text/x-python",
   "name": "python",
   "nbconvert_exporter": "python",
   "pygments_lexer": "ipython3",
   "version": "3.11.5"
  }
 },
 "nbformat": 4,
 "nbformat_minor": 5
}
