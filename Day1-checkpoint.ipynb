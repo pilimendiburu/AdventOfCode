{
 "cells": [
  {
   "cell_type": "code",
   "execution_count": 23,
   "id": "692237b5",
   "metadata": {},
   "outputs": [
    {
     "data": {
      "text/plain": [
       "'C:\\\\Users\\\\Pilar\\\\Documents\\\\CURSO PYTHON\\\\AdventOfCode'"
      ]
     },
     "execution_count": 23,
     "metadata": {},
     "output_type": "execute_result"
    }
   ],
   "source": [
    "import os\n",
    "os.getcwd()\n",
    "os.chdir('C:\\\\Users\\\\Pilar\\\\Documents\\\\CURSO PYTHON\\\\AdventOfCode')\n",
    "os.getcwd()"
   ]
  },
  {
   "cell_type": "markdown",
   "id": "e3c3482e",
   "metadata": {},
   "source": [
    "Something is wrong with global snow production, and you've been selected to take a look. The Elves have even given you a map; on it, they've used stars to mark the top fifty locations that are likely to be having problems.\n",
    "\n",
    "You've been doing this long enough to know that to restore snow operations, you need to check all fifty stars by December 25th.\n",
    "\n",
    "Collect stars by solving puzzles. Two puzzles will be made available on each day in the Advent calendar; the second puzzle is unlocked when you complete the first. Each puzzle grants one star. Good luck!\n",
    "\n",
    "You try to ask why they can't just use a weather machine (\"not powerful enough\") and where they're even sending you (\"the sky\") and why your map looks mostly blank (\"you sure ask a lot of questions\") and hang on did you just say the sky (\"of course, where do you think snow comes from\") when you realize that the Elves are already loading you into a trebuchet (\"please hold still, we need to strap you in\").\n",
    "\n",
    "As they're making the final adjustments, they discover that their calibration document (your puzzle input) has been amended by a very young Elf who was apparently just excited to show off her art skills. Consequently, the Elves are having trouble reading the values on the document.\n",
    "\n",
    "The newly-improved calibration document consists of lines of text; each line originally contained a specific calibration value that the Elves now need to recover. On each line, the calibration value can be found by combining the first digit and the last digit (in that order) to form a single two-digit number."
   ]
  },
  {
   "cell_type": "code",
   "execution_count": 64,
   "id": "c1987d37",
   "metadata": {},
   "outputs": [
    {
     "data": {
      "text/plain": [
       "54597"
      ]
     },
     "execution_count": 64,
     "metadata": {},
     "output_type": "execute_result"
    }
   ],
   "source": [
    "#On each line, the calibration value \n",
    "#can be found by combining the first digit and the last digit (in that order) to form a single two-digit number.\n",
    "\n",
    "## Abro archivo y lo guardo e una lñista de lineas\n",
    "file = open('Day1.txt', 'r')\n",
    "lines=file.readlines()\n",
    "\n",
    "new_line = [''] * len(lines)  # Crea una lista con len(lines) strings vacíos\n",
    "\n",
    "for (idx,line) in enumerate(lines):\n",
    "    new_line[idx] = \"\"  # Crea una nueva cadena vacía\n",
    "    for char in line:  # Recorre cada carácter de la cadena original\n",
    "        if not char.isalpha():  # Si el carácter no es una letra, agrégalo a la nueva cadena\n",
    "            new_line[idx] += char\n",
    "            \n",
    "for (pos,line) in enumerate(new_line):\n",
    "    if len(line)<3:\n",
    "        new_line[pos]=line[0]+line[0]\n",
    "    elif len(line)>=3:\n",
    "        new_line[pos]=line[0]+line[-2]\n",
    "new_line\n",
    "ints = list(int(line) for line in new_line)\n",
    "ints\n",
    "sum=sum(ints)\n",
    "sum"
   ]
  },
  {
   "cell_type": "code",
   "execution_count": 90,
   "id": "037017d4",
   "metadata": {},
   "outputs": [
    {
     "ename": "IndentationError",
     "evalue": "unexpected indent (3524229713.py, line 27)",
     "output_type": "error",
     "traceback": [
      "\u001b[1;36m  Cell \u001b[1;32mIn[90], line 27\u001b[1;36m\u001b[0m\n\u001b[1;33m    for char in line1:  # Recorre cada carácter de la cadena original\u001b[0m\n\u001b[1;37m    ^\u001b[0m\n\u001b[1;31mIndentationError\u001b[0m\u001b[1;31m:\u001b[0m unexpected indent\n"
     ]
    }
   ],
   "source": [
    "    \n",
    "new_lines = []\n",
    "for (idx,line) in enumerate(lines):\n",
    "    line1=line\n",
    "    if 'zero' in line:\n",
    "        line1 = line1.replace('zero', '0')\n",
    "    if 'one' in line:\n",
    "        line1 = line1.replace('one', '1')\n",
    "    if 'two' in line:\n",
    "        line1 = line1.replace('two', '2')\n",
    "    if 'three' in line:\n",
    "        line1 = line1.replace('three', '3')\n",
    "    if 'four' in line:\n",
    "        line1 = line1.replace('four', '4')\n",
    "    if 'five' in line:\n",
    "        line1 = line1.replace('five', '5')\n",
    "    if 'six' in line:\n",
    "        line1 = line1.replace('six', '6')\n",
    "    if 'seven' in line:\n",
    "        line1 =line1.replace('seven', '7')\n",
    "    if 'eight' in line:\n",
    "        line1= line1.replace('eight', '8')\n",
    "    if 'nine' in line:\n",
    "        line1 = line1.replace('nine', '9')\n",
    "    new_lines.append(line1)\n",
    "\n",
    "new_lines\n",
    "    for char in line1:  # Recorre cada carácter de la cadena original\n",
    "        if not char.isalpha():  # Si el carácter no es una letra, agrégalo a la nueva cadena\n",
    "            new_line[idx] += char\n",
    "\n",
    "for (pos,line) in enumerate(new_line):\n",
    "    if len(line)<3:\n",
    "        new_line[pos]=line[0]+line[0]\n",
    "    elif len(line)>=3:\n",
    "       new_line[pos]=line[0]+line[-2]\n",
    "#new_line\n",
    "ints = list(int(line) for line in new_line)\n",
    "ints\n",
    "sum=sum(ints)\n",
    "sum"
   ]
  },
  {
   "cell_type": "code",
   "execution_count": 86,
   "id": "ae8e76de",
   "metadata": {},
   "outputs": [
    {
     "name": "stdout",
     "output_type": "stream",
     "text": [
      "9sixsevenz3\n",
      "\n"
     ]
    },
    {
     "data": {
      "text/plain": [
       "'96sevenz3\\n'"
      ]
     },
     "execution_count": 86,
     "metadata": {},
     "output_type": "execute_result"
    }
   ],
   "source": [
    "line1=lines[0]\n",
    "print(line1)\n",
    "line1=line1.replace('six','6')\n",
    "line1"
   ]
  }
 ],
 "metadata": {
  "kernelspec": {
   "display_name": "Python 3 (ipykernel)",
   "language": "python",
   "name": "python3"
  },
  "language_info": {
   "codemirror_mode": {
    "name": "ipython",
    "version": 3
   },
   "file_extension": ".py",
   "mimetype": "text/x-python",
   "name": "python",
   "nbconvert_exporter": "python",
   "pygments_lexer": "ipython3",
   "version": "3.11.5"
  }
 },
 "nbformat": 4,
 "nbformat_minor": 5
}
